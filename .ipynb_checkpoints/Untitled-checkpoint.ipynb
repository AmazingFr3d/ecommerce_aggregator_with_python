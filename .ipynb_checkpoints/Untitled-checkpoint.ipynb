{
 "cells": [
  {
   "cell_type": "code",
   "execution_count": 2,
   "id": "4ace3e50-9e12-42fc-95d2-e1f326269f75",
   "metadata": {},
   "outputs": [],
   "source": [
    "from autoscraper import AutoScraper"
   ]
  },
  {
   "cell_type": "code",
   "execution_count": 3,
   "id": "63f73877-6d37-4250-9c3e-83684e070c5f",
   "metadata": {},
   "outputs": [],
   "source": [
    "url = \"https://www.aliexpress.com/af/raspberry-pi.html?d=y&origin=n&SearchText=raspberry+pi\"\n",
    "wanted_dict = [\"Official Original Raspberry Pi 4 Model B Dev Board Kit RAM  2gb 4gb 8gb 4b Core CPU 1.5Ghz 3 Speeder Than Pi 3B+\",\"NGN80,916.58\",\"5\",\"//ae01.alicdn.com/kf/Scbea15c55bcf4042af863c386bcb400d8/Original-Raspberry-Pi-4-Model-B-8-4-2-1-GB-RAM-Case-Fan-Heat-Sinks.jpg_220x220xz.jpg_.webp\",\"//www.aliexpress.com/item/4000066043319.html?algo_pvid=bc3f4ffa-add1-4d85-98f8-f65eedfd0747&algo_exp_id=bc3f4ffa-add1-4d85-98f8-f65eedfd0747-8&pdp_ext_f=%7B%22sku_id%22%3A%2212000025603515063%22%7D&pdp_npi=2%40dis%21NGN%21117080.7%2183128.33%21%21%21%21%21%402103255a16643851866144658e59e5%2112000025603515063%21sea&curPageLogUid=4WMKEu320V1o\"],\n"
   ]
  },
  {
   "cell_type": "code",
   "execution_count": 10,
   "id": "a16be316-e493-422b-a514-137858f1fe1d",
   "metadata": {},
   "outputs": [],
   "source": [
    "scraper = AutoScraper()\n",
    "result = scraper.build(url=url, wanted_dict=wanted_dict)"
   ]
  },
  {
   "cell_type": "code",
   "execution_count": 13,
   "id": "665c64c1-d621-4aa0-ac00-51229ac02f9e",
   "metadata": {},
   "outputs": [
    {
     "data": {
      "text/plain": [
       "{}"
      ]
     },
     "execution_count": 13,
     "metadata": {},
     "output_type": "execute_result"
    }
   ],
   "source": [
    "scraper.get_result_similar(url,grouped=True)"
   ]
  },
  {
   "cell_type": "code",
   "execution_count": 15,
   "id": "386c93e7-a60c-46e5-a8b2-315c696d9563",
   "metadata": {},
   "outputs": [
    {
     "name": "stdout",
     "output_type": "stream",
     "text": [
      "[]\n"
     ]
    }
   ],
   "source": [
    "type(result)\n",
    "print(result)"
   ]
  }
 ],
 "metadata": {
  "kernelspec": {
   "display_name": "Python 3 (ipykernel)",
   "language": "python",
   "name": "python3"
  },
  "language_info": {
   "codemirror_mode": {
    "name": "ipython",
    "version": 3
   },
   "file_extension": ".py",
   "mimetype": "text/x-python",
   "name": "python",
   "nbconvert_exporter": "python",
   "pygments_lexer": "ipython3",
   "version": "3.10.7"
  }
 },
 "nbformat": 4,
 "nbformat_minor": 5
}
